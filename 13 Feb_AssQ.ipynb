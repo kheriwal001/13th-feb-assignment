{
 "cells": [
  {
   "cell_type": "code",
   "execution_count": null,
   "id": "bc159ac9-d083-4582-bdcd-abd7e277d130",
   "metadata": {},
   "outputs": [],
   "source": [
    "Q.1> Explain why we have to use the Exception class while creating a custom Exception.\n",
    "Ans> We use the Exception class as the base class for creating custom exceptions because \n",
    "     it provides a set of standard behaviors and attributes that are essential for \n",
    "     consistent and reliable error handling. By inheriting from the Exception class, \n",
    "     our custom exception will automatically inherit these behaviors and attributes, such \n",
    "     as the ability to print an error message, display a traceback, and raise the exception \n",
    "     in a standardized way"
   ]
  },
  {
   "cell_type": "code",
   "execution_count": null,
   "id": "7c568a55-7172-4ed4-8912-f46e8d7cb061",
   "metadata": {},
   "outputs": [],
   "source": [
    "#Q.2> Write a python program to print python Exception hierarchy. \n",
    "def print_exception_hierarchy(exception_class, level=0):\n",
    "    print('\\t' * level + f'{exception_class.__name__}')\n",
    "    for subclass in exception_class.__subclasses__():\n",
    "        print_exception_hierarchy(subclass, level + 1)\n",
    "\n",
    "print_exception_hierarchy(BaseException)\n"
   ]
  },
  {
   "cell_type": "code",
   "execution_count": null,
   "id": "3c478ab2-3d7f-4d7e-be79-6c56b503ce5b",
   "metadata": {},
   "outputs": [],
   "source": [
    "Q3. What errors are defined in the ArithmeticError class? Explain any two with an example.\n",
    "Ans> The ArithmeticError class is a built-in Python exception class that serves as a base \n",
    "     class for all exceptions that occur during numeric calculations. It provides a common \n",
    "     interface for handling errors such as division by zero, integer overflow, and other \n",
    "     arithmetic-related issues. Here are two examples of errors defined in the ArithmeticError class:\n",
    "   \n",
    "     1.ZeroDivisionError: This error occurs when you try to divide a number by zero. For example,\n",
    "      x = 10\n",
    "      y = 0\n",
    "      z = x / y\n",
    "\n",
    "     2. OverflowError: This error occurs when you try to perform an arithmetic operation that results \n",
    "        in a number that is too large to be represented by the available memory. For example\n",
    "        x = 1e1000\n",
    "        y = x * x\n",
    "\n"
   ]
  },
  {
   "cell_type": "code",
   "execution_count": null,
   "id": "59c6a143-f3e5-4f97-bc3d-200434828210",
   "metadata": {},
   "outputs": [],
   "source": [
    "Q.4> Why LookupError class is used? Explain with an example KeyError and IndexError\n",
    "Ans> The LookupError class is a built-in Python exception class that serves as a base \n",
    "     class for all exceptions that occur when trying to access a non-existent or invalid \n",
    "     object or index. It provides a common interface for handling errors such as key lookup \n",
    "     failures in dictionaries, index out of range errors in sequences, and other similar issues.\n",
    "    KeyError: This error occurs when you try to access a dictionary key that does not exist. \n",
    "    For example, consider the following code:\n",
    "     d = {'a': 1, 'b': 2, 'c': 3}\n",
    "     value = d['d']\n",
    "    IndexError: This error occurs when you try to access a list, tuple, or other sequence at \n",
    "    an index that is out of range. For example, consider the following code:\n",
    "     a = [1, 2, 3]\n",
    "     value = a[3]"
   ]
  },
  {
   "cell_type": "code",
   "execution_count": null,
   "id": "68ece391-0f5f-4314-8986-1001d524ba48",
   "metadata": {},
   "outputs": [],
   "source": [
    "Q.5> Explain import error . What is ModuleNotFoundError ? \n",
    "Ans> An ImportError is a built-in Python exception that occurs when a module, package, \n",
    "     or name cannot be imported. This error can occur for several reasons, such as a \n",
    "     missing or misspelled module name, a missing or incorrect path to the module, or \n",
    "     an issue with the module's code.\n",
    "\n",
    "     A ModuleNotFoundError is a subclass of the ImportError class that specifically \n",
    "     occurs when a module or package cannot be found. It was introduced in Python 3.6 \n",
    "     as a more specific error message than the general ImportError exception. When a \n",
    "     module or package cannot be found, Python raises a ModuleNotFoundError and includes \n",
    "     the name of the missing module in the error message."
   ]
  },
  {
   "cell_type": "code",
   "execution_count": null,
   "id": "720cb410-c24d-4da6-ba8c-f0dc0dc40412",
   "metadata": {},
   "outputs": [],
   "source": [
    "Q.6> List down the best practices for Exception hadling in python .\n",
    "Ans> Here are some best practices for exception handling in Python:\n",
    "\n",
    "     Be specific: Use specific exception classes whenever possible, rather than catching \n",
    "     and handling all exceptions with a single generic except block. This allows you to \n",
    "     handle different types of errors in different ways and provides more detailed error \n",
    "     messages to the user.\n",
    "\n",
    "    Keep it simple: Use simple and concise try-except blocks that focus on the specific \n",
    "    error being handled. Avoid overcomplicating exception handling by nesting multiple \n",
    "    try-except blocks or using complex exception hierarchies.\n",
    "\n",
    "    Don't ignore exceptions: Avoid ignoring exceptions by using an empty except block or \n",
    "    catching a broad range of exceptions with a generic except block. This can hide underlying \n",
    "    problems and make it difficult to debug issues.\n",
    "\n",
    "    Use finally blocks: Use finally blocks to ensure that cleanup code is executed, regardless \n",
    "    of whether an exception was raised or not. This can be useful for releasing resources, \n",
    "    closing files, or cleaning up temporary data.\n",
    "\n",
    "    Raise exceptions when appropriate: Raise exceptions when it makes sense to do so, rather \n",
    "    than relying solely on error codes or return values. This can provide more detailed \n",
    "    information about the error and allow for better error handling.\n",
    "\n",
    "    Log exceptions: Use logging to log exceptions and other error-related information. This \n",
    "    can be useful for debugging issues and identifying patterns of errors."
   ]
  }
 ],
 "metadata": {
  "kernelspec": {
   "display_name": "Python 3 (ipykernel)",
   "language": "python",
   "name": "python3"
  },
  "language_info": {
   "codemirror_mode": {
    "name": "ipython",
    "version": 3
   },
   "file_extension": ".py",
   "mimetype": "text/x-python",
   "name": "python",
   "nbconvert_exporter": "python",
   "pygments_lexer": "ipython3",
   "version": "3.10.8"
  }
 },
 "nbformat": 4,
 "nbformat_minor": 5
}
